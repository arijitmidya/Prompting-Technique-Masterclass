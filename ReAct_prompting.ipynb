{
  "nbformat": 4,
  "nbformat_minor": 0,
  "metadata": {
    "colab": {
      "provenance": []
    },
    "kernelspec": {
      "name": "python3",
      "display_name": "Python 3"
    },
    "language_info": {
      "name": "python"
    }
  },
  "cells": [
    {
      "cell_type": "markdown",
      "source": [
        "# ReAct prompting\n",
        "\n",
        "ReAct approach integrates the generation of reasoning paths with actionable steps, thereby improving the model’s ability to handle dynamic scenarios. ReAct is particularly useful in decision-making contexts where actions are based on evolving conditions. In question answering, in addition to generating step-by-step reasoning, ReAct prompting addresses issues of hallucination and error propagation by interacting with external data sources, such as a Wikipedia API, to fetch real-time data, which aids in producing more interpretable and verifiable task-solving trajectories.\n",
        "\n",
        "The example below leverages 2 LLM's ( OpenAI and Gemini models )\n",
        "\n",
        "Notebook structure\n",
        "\n",
        "1. Install necessary dependencies\n",
        "\n",
        "2. Import necessary libraries\n",
        "\n",
        "3. Instantiate the Open AI and Gemini models using the keys\n",
        "\n",
        "4. Define and instantiate the prompt template\n",
        "\n",
        "5. Execute the task using Open AI and Gemini models\n"
      ],
      "metadata": {
        "id": "e0SrkSa9OUAk"
      }
    },
    {
      "cell_type": "markdown",
      "source": [
        "# 1. Install necessary dependencies"
      ],
      "metadata": {
        "id": "ZVyljz1E8sIK"
      }
    },
    {
      "cell_type": "code",
      "source": [
        "! pip install openai"
      ],
      "metadata": {
        "colab": {
          "base_uri": "https://localhost:8080/"
        },
        "id": "VSWOrxVNRQhK",
        "outputId": "79bfbfc1-eb0d-4cf7-c664-9bbdbc9bbec0"
      },
      "execution_count": 1,
      "outputs": [
        {
          "output_type": "stream",
          "name": "stdout",
          "text": [
            "Requirement already satisfied: openai in /usr/local/lib/python3.10/dist-packages (1.57.4)\n",
            "Requirement already satisfied: anyio<5,>=3.5.0 in /usr/local/lib/python3.10/dist-packages (from openai) (3.7.1)\n",
            "Requirement already satisfied: distro<2,>=1.7.0 in /usr/local/lib/python3.10/dist-packages (from openai) (1.9.0)\n",
            "Requirement already satisfied: httpx<1,>=0.23.0 in /usr/local/lib/python3.10/dist-packages (from openai) (0.28.1)\n",
            "Requirement already satisfied: jiter<1,>=0.4.0 in /usr/local/lib/python3.10/dist-packages (from openai) (0.8.2)\n",
            "Requirement already satisfied: pydantic<3,>=1.9.0 in /usr/local/lib/python3.10/dist-packages (from openai) (2.10.3)\n",
            "Requirement already satisfied: sniffio in /usr/local/lib/python3.10/dist-packages (from openai) (1.3.1)\n",
            "Requirement already satisfied: tqdm>4 in /usr/local/lib/python3.10/dist-packages (from openai) (4.67.1)\n",
            "Requirement already satisfied: typing-extensions<5,>=4.11 in /usr/local/lib/python3.10/dist-packages (from openai) (4.12.2)\n",
            "Requirement already satisfied: idna>=2.8 in /usr/local/lib/python3.10/dist-packages (from anyio<5,>=3.5.0->openai) (3.10)\n",
            "Requirement already satisfied: exceptiongroup in /usr/local/lib/python3.10/dist-packages (from anyio<5,>=3.5.0->openai) (1.2.2)\n",
            "Requirement already satisfied: certifi in /usr/local/lib/python3.10/dist-packages (from httpx<1,>=0.23.0->openai) (2024.12.14)\n",
            "Requirement already satisfied: httpcore==1.* in /usr/local/lib/python3.10/dist-packages (from httpx<1,>=0.23.0->openai) (1.0.7)\n",
            "Requirement already satisfied: h11<0.15,>=0.13 in /usr/local/lib/python3.10/dist-packages (from httpcore==1.*->httpx<1,>=0.23.0->openai) (0.14.0)\n",
            "Requirement already satisfied: annotated-types>=0.6.0 in /usr/local/lib/python3.10/dist-packages (from pydantic<3,>=1.9.0->openai) (0.7.0)\n",
            "Requirement already satisfied: pydantic-core==2.27.1 in /usr/local/lib/python3.10/dist-packages (from pydantic<3,>=1.9.0->openai) (2.27.1)\n"
          ]
        }
      ]
    },
    {
      "cell_type": "code",
      "source": [
        "!pip install langchain_google_genai"
      ],
      "metadata": {
        "colab": {
          "base_uri": "https://localhost:8080/"
        },
        "id": "cg7TyIE3XTQc",
        "outputId": "990d52ce-d51f-4b63-c8f1-7a01e2b19bc6"
      },
      "execution_count": 22,
      "outputs": [
        {
          "output_type": "stream",
          "name": "stdout",
          "text": [
            "Collecting langchain_google_genai\n",
            "  Downloading langchain_google_genai-2.0.7-py3-none-any.whl.metadata (3.6 kB)\n",
            "Collecting filetype<2.0.0,>=1.2.0 (from langchain_google_genai)\n",
            "  Downloading filetype-1.2.0-py2.py3-none-any.whl.metadata (6.5 kB)\n",
            "Requirement already satisfied: google-generativeai<0.9.0,>=0.8.0 in /usr/local/lib/python3.10/dist-packages (from langchain_google_genai) (0.8.3)\n",
            "Requirement already satisfied: langchain-core<0.4,>=0.3.15 in /usr/local/lib/python3.10/dist-packages (from langchain_google_genai) (0.3.28)\n",
            "Requirement already satisfied: pydantic<3,>=2 in /usr/local/lib/python3.10/dist-packages (from langchain_google_genai) (2.10.3)\n",
            "Requirement already satisfied: google-ai-generativelanguage==0.6.10 in /usr/local/lib/python3.10/dist-packages (from google-generativeai<0.9.0,>=0.8.0->langchain_google_genai) (0.6.10)\n",
            "Requirement already satisfied: google-api-core in /usr/local/lib/python3.10/dist-packages (from google-generativeai<0.9.0,>=0.8.0->langchain_google_genai) (2.19.2)\n",
            "Requirement already satisfied: google-api-python-client in /usr/local/lib/python3.10/dist-packages (from google-generativeai<0.9.0,>=0.8.0->langchain_google_genai) (2.155.0)\n",
            "Requirement already satisfied: google-auth>=2.15.0 in /usr/local/lib/python3.10/dist-packages (from google-generativeai<0.9.0,>=0.8.0->langchain_google_genai) (2.27.0)\n",
            "Requirement already satisfied: protobuf in /usr/local/lib/python3.10/dist-packages (from google-generativeai<0.9.0,>=0.8.0->langchain_google_genai) (4.25.5)\n",
            "Requirement already satisfied: tqdm in /usr/local/lib/python3.10/dist-packages (from google-generativeai<0.9.0,>=0.8.0->langchain_google_genai) (4.67.1)\n",
            "Requirement already satisfied: typing-extensions in /usr/local/lib/python3.10/dist-packages (from google-generativeai<0.9.0,>=0.8.0->langchain_google_genai) (4.12.2)\n",
            "Requirement already satisfied: proto-plus<2.0.0dev,>=1.22.3 in /usr/local/lib/python3.10/dist-packages (from google-ai-generativelanguage==0.6.10->google-generativeai<0.9.0,>=0.8.0->langchain_google_genai) (1.25.0)\n",
            "Requirement already satisfied: PyYAML>=5.3 in /usr/local/lib/python3.10/dist-packages (from langchain-core<0.4,>=0.3.15->langchain_google_genai) (6.0.2)\n",
            "Requirement already satisfied: jsonpatch<2.0,>=1.33 in /usr/local/lib/python3.10/dist-packages (from langchain-core<0.4,>=0.3.15->langchain_google_genai) (1.33)\n",
            "Requirement already satisfied: langsmith<0.3,>=0.1.125 in /usr/local/lib/python3.10/dist-packages (from langchain-core<0.4,>=0.3.15->langchain_google_genai) (0.2.3)\n",
            "Requirement already satisfied: packaging<25,>=23.2 in /usr/local/lib/python3.10/dist-packages (from langchain-core<0.4,>=0.3.15->langchain_google_genai) (24.2)\n",
            "Requirement already satisfied: tenacity!=8.4.0,<10.0.0,>=8.1.0 in /usr/local/lib/python3.10/dist-packages (from langchain-core<0.4,>=0.3.15->langchain_google_genai) (9.0.0)\n",
            "Requirement already satisfied: annotated-types>=0.6.0 in /usr/local/lib/python3.10/dist-packages (from pydantic<3,>=2->langchain_google_genai) (0.7.0)\n",
            "Requirement already satisfied: pydantic-core==2.27.1 in /usr/local/lib/python3.10/dist-packages (from pydantic<3,>=2->langchain_google_genai) (2.27.1)\n",
            "Requirement already satisfied: googleapis-common-protos<2.0.dev0,>=1.56.2 in /usr/local/lib/python3.10/dist-packages (from google-api-core->google-generativeai<0.9.0,>=0.8.0->langchain_google_genai) (1.66.0)\n",
            "Requirement already satisfied: requests<3.0.0.dev0,>=2.18.0 in /usr/local/lib/python3.10/dist-packages (from google-api-core->google-generativeai<0.9.0,>=0.8.0->langchain_google_genai) (2.32.3)\n",
            "Requirement already satisfied: cachetools<6.0,>=2.0.0 in /usr/local/lib/python3.10/dist-packages (from google-auth>=2.15.0->google-generativeai<0.9.0,>=0.8.0->langchain_google_genai) (5.5.0)\n",
            "Requirement already satisfied: pyasn1-modules>=0.2.1 in /usr/local/lib/python3.10/dist-packages (from google-auth>=2.15.0->google-generativeai<0.9.0,>=0.8.0->langchain_google_genai) (0.4.1)\n",
            "Requirement already satisfied: rsa<5,>=3.1.4 in /usr/local/lib/python3.10/dist-packages (from google-auth>=2.15.0->google-generativeai<0.9.0,>=0.8.0->langchain_google_genai) (4.9)\n",
            "Requirement already satisfied: jsonpointer>=1.9 in /usr/local/lib/python3.10/dist-packages (from jsonpatch<2.0,>=1.33->langchain-core<0.4,>=0.3.15->langchain_google_genai) (3.0.0)\n",
            "Requirement already satisfied: httpx<1,>=0.23.0 in /usr/local/lib/python3.10/dist-packages (from langsmith<0.3,>=0.1.125->langchain-core<0.4,>=0.3.15->langchain_google_genai) (0.28.1)\n",
            "Requirement already satisfied: orjson<4.0.0,>=3.9.14 in /usr/local/lib/python3.10/dist-packages (from langsmith<0.3,>=0.1.125->langchain-core<0.4,>=0.3.15->langchain_google_genai) (3.10.12)\n",
            "Requirement already satisfied: requests-toolbelt<2.0.0,>=1.0.0 in /usr/local/lib/python3.10/dist-packages (from langsmith<0.3,>=0.1.125->langchain-core<0.4,>=0.3.15->langchain_google_genai) (1.0.0)\n",
            "Requirement already satisfied: httplib2<1.dev0,>=0.19.0 in /usr/local/lib/python3.10/dist-packages (from google-api-python-client->google-generativeai<0.9.0,>=0.8.0->langchain_google_genai) (0.22.0)\n",
            "Requirement already satisfied: google-auth-httplib2<1.0.0,>=0.2.0 in /usr/local/lib/python3.10/dist-packages (from google-api-python-client->google-generativeai<0.9.0,>=0.8.0->langchain_google_genai) (0.2.0)\n",
            "Requirement already satisfied: uritemplate<5,>=3.0.1 in /usr/local/lib/python3.10/dist-packages (from google-api-python-client->google-generativeai<0.9.0,>=0.8.0->langchain_google_genai) (4.1.1)\n",
            "Requirement already satisfied: grpcio<2.0dev,>=1.33.2 in /usr/local/lib/python3.10/dist-packages (from google-api-core[grpc]!=2.0.*,!=2.1.*,!=2.10.*,!=2.2.*,!=2.3.*,!=2.4.*,!=2.5.*,!=2.6.*,!=2.7.*,!=2.8.*,!=2.9.*,<3.0.0dev,>=1.34.1->google-ai-generativelanguage==0.6.10->google-generativeai<0.9.0,>=0.8.0->langchain_google_genai) (1.68.1)\n",
            "Requirement already satisfied: grpcio-status<2.0.dev0,>=1.33.2 in /usr/local/lib/python3.10/dist-packages (from google-api-core[grpc]!=2.0.*,!=2.1.*,!=2.10.*,!=2.2.*,!=2.3.*,!=2.4.*,!=2.5.*,!=2.6.*,!=2.7.*,!=2.8.*,!=2.9.*,<3.0.0dev,>=1.34.1->google-ai-generativelanguage==0.6.10->google-generativeai<0.9.0,>=0.8.0->langchain_google_genai) (1.62.3)\n",
            "Requirement already satisfied: pyparsing!=3.0.0,!=3.0.1,!=3.0.2,!=3.0.3,<4,>=2.4.2 in /usr/local/lib/python3.10/dist-packages (from httplib2<1.dev0,>=0.19.0->google-api-python-client->google-generativeai<0.9.0,>=0.8.0->langchain_google_genai) (3.2.0)\n",
            "Requirement already satisfied: anyio in /usr/local/lib/python3.10/dist-packages (from httpx<1,>=0.23.0->langsmith<0.3,>=0.1.125->langchain-core<0.4,>=0.3.15->langchain_google_genai) (3.7.1)\n",
            "Requirement already satisfied: certifi in /usr/local/lib/python3.10/dist-packages (from httpx<1,>=0.23.0->langsmith<0.3,>=0.1.125->langchain-core<0.4,>=0.3.15->langchain_google_genai) (2024.12.14)\n",
            "Requirement already satisfied: httpcore==1.* in /usr/local/lib/python3.10/dist-packages (from httpx<1,>=0.23.0->langsmith<0.3,>=0.1.125->langchain-core<0.4,>=0.3.15->langchain_google_genai) (1.0.7)\n",
            "Requirement already satisfied: idna in /usr/local/lib/python3.10/dist-packages (from httpx<1,>=0.23.0->langsmith<0.3,>=0.1.125->langchain-core<0.4,>=0.3.15->langchain_google_genai) (3.10)\n",
            "Requirement already satisfied: h11<0.15,>=0.13 in /usr/local/lib/python3.10/dist-packages (from httpcore==1.*->httpx<1,>=0.23.0->langsmith<0.3,>=0.1.125->langchain-core<0.4,>=0.3.15->langchain_google_genai) (0.14.0)\n",
            "Requirement already satisfied: pyasn1<0.7.0,>=0.4.6 in /usr/local/lib/python3.10/dist-packages (from pyasn1-modules>=0.2.1->google-auth>=2.15.0->google-generativeai<0.9.0,>=0.8.0->langchain_google_genai) (0.6.1)\n",
            "Requirement already satisfied: charset-normalizer<4,>=2 in /usr/local/lib/python3.10/dist-packages (from requests<3.0.0.dev0,>=2.18.0->google-api-core->google-generativeai<0.9.0,>=0.8.0->langchain_google_genai) (3.4.0)\n",
            "Requirement already satisfied: urllib3<3,>=1.21.1 in /usr/local/lib/python3.10/dist-packages (from requests<3.0.0.dev0,>=2.18.0->google-api-core->google-generativeai<0.9.0,>=0.8.0->langchain_google_genai) (2.2.3)\n",
            "Requirement already satisfied: sniffio>=1.1 in /usr/local/lib/python3.10/dist-packages (from anyio->httpx<1,>=0.23.0->langsmith<0.3,>=0.1.125->langchain-core<0.4,>=0.3.15->langchain_google_genai) (1.3.1)\n",
            "Requirement already satisfied: exceptiongroup in /usr/local/lib/python3.10/dist-packages (from anyio->httpx<1,>=0.23.0->langsmith<0.3,>=0.1.125->langchain-core<0.4,>=0.3.15->langchain_google_genai) (1.2.2)\n",
            "Downloading langchain_google_genai-2.0.7-py3-none-any.whl (41 kB)\n",
            "\u001b[2K   \u001b[90m━━━━━━━━━━━━━━━━━━━━━━━━━━━━━━━━━━━━━━━━\u001b[0m \u001b[32m41.3/41.3 kB\u001b[0m \u001b[31m2.3 MB/s\u001b[0m eta \u001b[36m0:00:00\u001b[0m\n",
            "\u001b[?25hDownloading filetype-1.2.0-py2.py3-none-any.whl (19 kB)\n",
            "Installing collected packages: filetype, langchain_google_genai\n",
            "Successfully installed filetype-1.2.0 langchain_google_genai-2.0.7\n"
          ]
        }
      ]
    },
    {
      "cell_type": "code",
      "source": [
        "! pip install langchain_community"
      ],
      "metadata": {
        "colab": {
          "base_uri": "https://localhost:8080/"
        },
        "id": "sWEjg0D7RWES",
        "outputId": "9922b2c2-326e-4c8b-cdae-0d0048697559"
      },
      "execution_count": 2,
      "outputs": [
        {
          "output_type": "stream",
          "name": "stdout",
          "text": [
            "Collecting langchain_community\n",
            "  Downloading langchain_community-0.3.13-py3-none-any.whl.metadata (2.9 kB)\n",
            "Requirement already satisfied: PyYAML>=5.3 in /usr/local/lib/python3.10/dist-packages (from langchain_community) (6.0.2)\n",
            "Requirement already satisfied: SQLAlchemy<3,>=1.4 in /usr/local/lib/python3.10/dist-packages (from langchain_community) (2.0.36)\n",
            "Requirement already satisfied: aiohttp<4.0.0,>=3.8.3 in /usr/local/lib/python3.10/dist-packages (from langchain_community) (3.11.10)\n",
            "Collecting dataclasses-json<0.7,>=0.5.7 (from langchain_community)\n",
            "  Downloading dataclasses_json-0.6.7-py3-none-any.whl.metadata (25 kB)\n",
            "Collecting httpx-sse<0.5.0,>=0.4.0 (from langchain_community)\n",
            "  Downloading httpx_sse-0.4.0-py3-none-any.whl.metadata (9.0 kB)\n",
            "Collecting langchain<0.4.0,>=0.3.13 (from langchain_community)\n",
            "  Downloading langchain-0.3.13-py3-none-any.whl.metadata (7.1 kB)\n",
            "Collecting langchain-core<0.4.0,>=0.3.27 (from langchain_community)\n",
            "  Downloading langchain_core-0.3.28-py3-none-any.whl.metadata (6.3 kB)\n",
            "Requirement already satisfied: langsmith<0.3,>=0.1.125 in /usr/local/lib/python3.10/dist-packages (from langchain_community) (0.2.3)\n",
            "Requirement already satisfied: numpy<2,>=1.22.4 in /usr/local/lib/python3.10/dist-packages (from langchain_community) (1.26.4)\n",
            "Collecting pydantic-settings<3.0.0,>=2.4.0 (from langchain_community)\n",
            "  Downloading pydantic_settings-2.7.0-py3-none-any.whl.metadata (3.5 kB)\n",
            "Requirement already satisfied: requests<3,>=2 in /usr/local/lib/python3.10/dist-packages (from langchain_community) (2.32.3)\n",
            "Requirement already satisfied: tenacity!=8.4.0,<10,>=8.1.0 in /usr/local/lib/python3.10/dist-packages (from langchain_community) (9.0.0)\n",
            "Requirement already satisfied: aiohappyeyeballs>=2.3.0 in /usr/local/lib/python3.10/dist-packages (from aiohttp<4.0.0,>=3.8.3->langchain_community) (2.4.4)\n",
            "Requirement already satisfied: aiosignal>=1.1.2 in /usr/local/lib/python3.10/dist-packages (from aiohttp<4.0.0,>=3.8.3->langchain_community) (1.3.2)\n",
            "Requirement already satisfied: async-timeout<6.0,>=4.0 in /usr/local/lib/python3.10/dist-packages (from aiohttp<4.0.0,>=3.8.3->langchain_community) (4.0.3)\n",
            "Requirement already satisfied: attrs>=17.3.0 in /usr/local/lib/python3.10/dist-packages (from aiohttp<4.0.0,>=3.8.3->langchain_community) (24.3.0)\n",
            "Requirement already satisfied: frozenlist>=1.1.1 in /usr/local/lib/python3.10/dist-packages (from aiohttp<4.0.0,>=3.8.3->langchain_community) (1.5.0)\n",
            "Requirement already satisfied: multidict<7.0,>=4.5 in /usr/local/lib/python3.10/dist-packages (from aiohttp<4.0.0,>=3.8.3->langchain_community) (6.1.0)\n",
            "Requirement already satisfied: propcache>=0.2.0 in /usr/local/lib/python3.10/dist-packages (from aiohttp<4.0.0,>=3.8.3->langchain_community) (0.2.1)\n",
            "Requirement already satisfied: yarl<2.0,>=1.17.0 in /usr/local/lib/python3.10/dist-packages (from aiohttp<4.0.0,>=3.8.3->langchain_community) (1.18.3)\n",
            "Collecting marshmallow<4.0.0,>=3.18.0 (from dataclasses-json<0.7,>=0.5.7->langchain_community)\n",
            "  Downloading marshmallow-3.23.2-py3-none-any.whl.metadata (7.1 kB)\n",
            "Collecting typing-inspect<1,>=0.4.0 (from dataclasses-json<0.7,>=0.5.7->langchain_community)\n",
            "  Downloading typing_inspect-0.9.0-py3-none-any.whl.metadata (1.5 kB)\n",
            "Requirement already satisfied: langchain-text-splitters<0.4.0,>=0.3.3 in /usr/local/lib/python3.10/dist-packages (from langchain<0.4.0,>=0.3.13->langchain_community) (0.3.3)\n",
            "Requirement already satisfied: pydantic<3.0.0,>=2.7.4 in /usr/local/lib/python3.10/dist-packages (from langchain<0.4.0,>=0.3.13->langchain_community) (2.10.3)\n",
            "Requirement already satisfied: jsonpatch<2.0,>=1.33 in /usr/local/lib/python3.10/dist-packages (from langchain-core<0.4.0,>=0.3.27->langchain_community) (1.33)\n",
            "Requirement already satisfied: packaging<25,>=23.2 in /usr/local/lib/python3.10/dist-packages (from langchain-core<0.4.0,>=0.3.27->langchain_community) (24.2)\n",
            "Requirement already satisfied: typing-extensions>=4.7 in /usr/local/lib/python3.10/dist-packages (from langchain-core<0.4.0,>=0.3.27->langchain_community) (4.12.2)\n",
            "Requirement already satisfied: httpx<1,>=0.23.0 in /usr/local/lib/python3.10/dist-packages (from langsmith<0.3,>=0.1.125->langchain_community) (0.28.1)\n",
            "Requirement already satisfied: orjson<4.0.0,>=3.9.14 in /usr/local/lib/python3.10/dist-packages (from langsmith<0.3,>=0.1.125->langchain_community) (3.10.12)\n",
            "Requirement already satisfied: requests-toolbelt<2.0.0,>=1.0.0 in /usr/local/lib/python3.10/dist-packages (from langsmith<0.3,>=0.1.125->langchain_community) (1.0.0)\n",
            "Collecting python-dotenv>=0.21.0 (from pydantic-settings<3.0.0,>=2.4.0->langchain_community)\n",
            "  Downloading python_dotenv-1.0.1-py3-none-any.whl.metadata (23 kB)\n",
            "Requirement already satisfied: charset-normalizer<4,>=2 in /usr/local/lib/python3.10/dist-packages (from requests<3,>=2->langchain_community) (3.4.0)\n",
            "Requirement already satisfied: idna<4,>=2.5 in /usr/local/lib/python3.10/dist-packages (from requests<3,>=2->langchain_community) (3.10)\n",
            "Requirement already satisfied: urllib3<3,>=1.21.1 in /usr/local/lib/python3.10/dist-packages (from requests<3,>=2->langchain_community) (2.2.3)\n",
            "Requirement already satisfied: certifi>=2017.4.17 in /usr/local/lib/python3.10/dist-packages (from requests<3,>=2->langchain_community) (2024.12.14)\n",
            "Requirement already satisfied: greenlet!=0.4.17 in /usr/local/lib/python3.10/dist-packages (from SQLAlchemy<3,>=1.4->langchain_community) (3.1.1)\n",
            "Requirement already satisfied: anyio in /usr/local/lib/python3.10/dist-packages (from httpx<1,>=0.23.0->langsmith<0.3,>=0.1.125->langchain_community) (3.7.1)\n",
            "Requirement already satisfied: httpcore==1.* in /usr/local/lib/python3.10/dist-packages (from httpx<1,>=0.23.0->langsmith<0.3,>=0.1.125->langchain_community) (1.0.7)\n",
            "Requirement already satisfied: h11<0.15,>=0.13 in /usr/local/lib/python3.10/dist-packages (from httpcore==1.*->httpx<1,>=0.23.0->langsmith<0.3,>=0.1.125->langchain_community) (0.14.0)\n",
            "Requirement already satisfied: jsonpointer>=1.9 in /usr/local/lib/python3.10/dist-packages (from jsonpatch<2.0,>=1.33->langchain-core<0.4.0,>=0.3.27->langchain_community) (3.0.0)\n",
            "Requirement already satisfied: annotated-types>=0.6.0 in /usr/local/lib/python3.10/dist-packages (from pydantic<3.0.0,>=2.7.4->langchain<0.4.0,>=0.3.13->langchain_community) (0.7.0)\n",
            "Requirement already satisfied: pydantic-core==2.27.1 in /usr/local/lib/python3.10/dist-packages (from pydantic<3.0.0,>=2.7.4->langchain<0.4.0,>=0.3.13->langchain_community) (2.27.1)\n",
            "Collecting mypy-extensions>=0.3.0 (from typing-inspect<1,>=0.4.0->dataclasses-json<0.7,>=0.5.7->langchain_community)\n",
            "  Downloading mypy_extensions-1.0.0-py3-none-any.whl.metadata (1.1 kB)\n",
            "Requirement already satisfied: sniffio>=1.1 in /usr/local/lib/python3.10/dist-packages (from anyio->httpx<1,>=0.23.0->langsmith<0.3,>=0.1.125->langchain_community) (1.3.1)\n",
            "Requirement already satisfied: exceptiongroup in /usr/local/lib/python3.10/dist-packages (from anyio->httpx<1,>=0.23.0->langsmith<0.3,>=0.1.125->langchain_community) (1.2.2)\n",
            "Downloading langchain_community-0.3.13-py3-none-any.whl (2.5 MB)\n",
            "\u001b[2K   \u001b[90m━━━━━━━━━━━━━━━━━━━━━━━━━━━━━━━━━━━━━━━━\u001b[0m \u001b[32m2.5/2.5 MB\u001b[0m \u001b[31m28.4 MB/s\u001b[0m eta \u001b[36m0:00:00\u001b[0m\n",
            "\u001b[?25hDownloading dataclasses_json-0.6.7-py3-none-any.whl (28 kB)\n",
            "Downloading httpx_sse-0.4.0-py3-none-any.whl (7.8 kB)\n",
            "Downloading langchain-0.3.13-py3-none-any.whl (1.0 MB)\n",
            "\u001b[2K   \u001b[90m━━━━━━━━━━━━━━━━━━━━━━━━━━━━━━━━━━━━━━━━\u001b[0m \u001b[32m1.0/1.0 MB\u001b[0m \u001b[31m33.8 MB/s\u001b[0m eta \u001b[36m0:00:00\u001b[0m\n",
            "\u001b[?25hDownloading langchain_core-0.3.28-py3-none-any.whl (411 kB)\n",
            "\u001b[2K   \u001b[90m━━━━━━━━━━━━━━━━━━━━━━━━━━━━━━━━━━━━━━━━\u001b[0m \u001b[32m411.6/411.6 kB\u001b[0m \u001b[31m18.3 MB/s\u001b[0m eta \u001b[36m0:00:00\u001b[0m\n",
            "\u001b[?25hDownloading pydantic_settings-2.7.0-py3-none-any.whl (29 kB)\n",
            "Downloading marshmallow-3.23.2-py3-none-any.whl (49 kB)\n",
            "\u001b[2K   \u001b[90m━━━━━━━━━━━━━━━━━━━━━━━━━━━━━━━━━━━━━━━━\u001b[0m \u001b[32m49.3/49.3 kB\u001b[0m \u001b[31m2.6 MB/s\u001b[0m eta \u001b[36m0:00:00\u001b[0m\n",
            "\u001b[?25hDownloading python_dotenv-1.0.1-py3-none-any.whl (19 kB)\n",
            "Downloading typing_inspect-0.9.0-py3-none-any.whl (8.8 kB)\n",
            "Downloading mypy_extensions-1.0.0-py3-none-any.whl (4.7 kB)\n",
            "Installing collected packages: python-dotenv, mypy-extensions, marshmallow, httpx-sse, typing-inspect, pydantic-settings, dataclasses-json, langchain-core, langchain, langchain_community\n",
            "  Attempting uninstall: langchain-core\n",
            "    Found existing installation: langchain-core 0.3.25\n",
            "    Uninstalling langchain-core-0.3.25:\n",
            "      Successfully uninstalled langchain-core-0.3.25\n",
            "  Attempting uninstall: langchain\n",
            "    Found existing installation: langchain 0.3.12\n",
            "    Uninstalling langchain-0.3.12:\n",
            "      Successfully uninstalled langchain-0.3.12\n",
            "Successfully installed dataclasses-json-0.6.7 httpx-sse-0.4.0 langchain-0.3.13 langchain-core-0.3.28 langchain_community-0.3.13 marshmallow-3.23.2 mypy-extensions-1.0.0 pydantic-settings-2.7.0 python-dotenv-1.0.1 typing-inspect-0.9.0\n"
          ]
        }
      ]
    },
    {
      "cell_type": "markdown",
      "source": [
        "# 2. Import necessary libraries"
      ],
      "metadata": {
        "id": "O-xfTjl-bAnX"
      }
    },
    {
      "cell_type": "code",
      "source": [
        "# Import necessary libraries\n",
        "\n",
        "from langchain.prompts import PromptTemplate\n",
        "from langchain.llms import OpenAI\n",
        "import warnings\n",
        "warnings.filterwarnings(\"ignore\")"
      ],
      "metadata": {
        "id": "hPQ8Bp-1ReVt"
      },
      "execution_count": 78,
      "outputs": []
    },
    {
      "cell_type": "markdown",
      "source": [
        "# 3. Instantiate the Open AI and Gemini models using the keys"
      ],
      "metadata": {
        "id": "Q2Sc6VorbJ-O"
      }
    },
    {
      "cell_type": "code",
      "source": [
        "# Initiating the chat model with API key\n",
        "\n",
        "openai = OpenAI(openai_api_key = \"add your keys here\")\n"
      ],
      "metadata": {
        "id": "L9niDHvTRo85"
      },
      "execution_count": 106,
      "outputs": []
    },
    {
      "cell_type": "code",
      "source": [
        "# Initiating the chat model with API key\n",
        "\n",
        "from langchain_google_genai import GoogleGenerativeAI\n",
        "\n",
        "gemini = GoogleGenerativeAI(google_api_key = \"add your keys here\" , model=\"models/gemini-1.5-pro-latest\")"
      ],
      "metadata": {
        "id": "bVk81kM2bnXV"
      },
      "execution_count": 107,
      "outputs": []
    },
    {
      "cell_type": "markdown",
      "source": [
        "# 4. Define and instantiate the prompt template"
      ],
      "metadata": {
        "id": "qjYetl5ybQ2J"
      }
    },
    {
      "cell_type": "code",
      "source": [
        "# Define the prompt template with chain-of-thought instruction\n",
        "\n",
        "prompt_template = \"\"\"\n",
        "Analyze the following situation and provide a reasoned sequence of actions based on '{user_input}'.\n",
        "\n",
        "1. Initial assessment: Analyze the situation and identify key signs, symptoms, or situations related to '{user_input}'.\n",
        "\n",
        "2. Immediate actions: List immediate actions to be taken, ensuring safety and addressing urgent needs.\n",
        "\n",
        "3. Verification steps: For real-time verification, set up an API call to a verified external source to confirm safety measures and proper actions related to '{user_input}'.\n",
        "\n",
        "4. Long-term preventative measures: Suggest long-term preventative measures to avoid future occurrences of '{user_input}'.\n",
        "\n",
        "5. Action summary: Summarize the steps to ensure immediate safety and prevent future incidents. Each action should be supported by real-time verified data to minimize risks.\n",
        "\"\"\""
      ],
      "metadata": {
        "id": "-fcOXbRhR922"
      },
      "execution_count": 108,
      "outputs": []
    },
    {
      "cell_type": "code",
      "source": [
        "# Create a PromptTemplate object\n",
        "\n",
        "prompt = PromptTemplate(\n",
        "    input_variables=[\"user_input\"],\n",
        "    template=prompt_template\n",
        ")"
      ],
      "metadata": {
        "id": "WILzuvOGSGvd"
      },
      "execution_count": 109,
      "outputs": []
    },
    {
      "cell_type": "markdown",
      "source": [
        "# 5. Execute the task using Open AI and Gemini models"
      ],
      "metadata": {
        "id": "_cqrB_ixbe5h"
      }
    },
    {
      "cell_type": "code",
      "source": [
        "# Example usage 1\n",
        "user_input = \"What steps should I take if I suspect a gas leak in my home?\"\n",
        "prompt_with_cot = prompt.format_prompt(user_input=user_input)"
      ],
      "metadata": {
        "id": "Y9uK4iJYSmeD"
      },
      "execution_count": 110,
      "outputs": []
    },
    {
      "cell_type": "code",
      "source": [
        "prompt_with_cot.text"
      ],
      "metadata": {
        "colab": {
          "base_uri": "https://localhost:8080/",
          "height": 122
        },
        "id": "e7jnpOmXTTwM",
        "outputId": "2755ec29-b823-476c-f70f-c99bd76df570"
      },
      "execution_count": 111,
      "outputs": [
        {
          "output_type": "execute_result",
          "data": {
            "text/plain": [
              "\"\\nAnalyze the following situation and provide a reasoned sequence of actions based on 'What steps should I take if I suspect a gas leak in my home?'.\\n\\n1. Initial assessment: Analyze the situation and identify key signs, symptoms, or situations related to 'What steps should I take if I suspect a gas leak in my home?'.\\n\\n2. Immediate actions: List immediate actions to be taken, ensuring safety and addressing urgent needs.\\n\\n3. Verification steps: For real-time verification, set up an API call to a verified external source to confirm safety measures and proper actions related to 'What steps should I take if I suspect a gas leak in my home?'.\\n\\n4. Long-term preventative measures: Suggest long-term preventative measures to avoid future occurrences of 'What steps should I take if I suspect a gas leak in my home?'.\\n\\n5. Action summary: Summarize the steps to ensure immediate safety and prevent future incidents. Each action should be supported by real-time verified data to minimize risks.\\n\""
            ],
            "application/vnd.google.colaboratory.intrinsic+json": {
              "type": "string"
            }
          },
          "metadata": {},
          "execution_count": 111
        }
      ]
    },
    {
      "cell_type": "code",
      "source": [
        "# Generate response\n",
        "response = openai(prompt_with_cot.text)\n",
        "print(response)"
      ],
      "metadata": {
        "colab": {
          "base_uri": "https://localhost:8080/"
        },
        "id": "qoh7wuGeS31Y",
        "outputId": "98028a1a-396f-481a-ea9f-69c07f42b042"
      },
      "execution_count": 112,
      "outputs": [
        {
          "output_type": "stream",
          "name": "stdout",
          "text": [
            "\n",
            "1. Initial assessment: If you suspect a gas leak in your home, the first step is to assess the situation. Look for any signs of a gas leak, such as a rotten egg smell, hissing sound near gas appliances, or dead plants near gas lines. Also, check for physical symptoms like headaches, dizziness, or nausea, which could indicate a gas leak.\n",
            "\n",
            "2. Immediate actions: If you suspect a gas leak, take the following immediate actions to ensure safety:\n",
            "- Evacuate the premises immediately and call 911 or your local gas company.\n",
            "- Do not turn on or off any electrical switches or appliances, as this could cause a spark that could ignite the gas.\n",
            "- Do not use any open flames, including lighting matches or smoking cigarettes.\n",
            "- Open all doors and windows to ventilate the area.\n",
            "- If you know how to do so safely, turn off the gas supply to your home.\n",
            "\n",
            "3. Verification steps: While waiting for emergency services to arrive, use an API call to a verified external source, such as your local gas company, to confirm safety measures and proper actions. They may be able to provide additional instructions or send a technician to assist with the situation.\n",
            "\n",
            "4. Long-term preventative measures: To prevent future gas leaks, consider\n"
          ]
        }
      ]
    },
    {
      "cell_type": "code",
      "source": [
        "# Generate response\n",
        "response = gemini(prompt_with_cot.text)\n",
        "print(response)"
      ],
      "metadata": {
        "colab": {
          "base_uri": "https://localhost:8080/"
        },
        "id": "A5qhk8f6b6_9",
        "outputId": "a173234e-362b-4e91-f9ea-64eca14a372a"
      },
      "execution_count": 113,
      "outputs": [
        {
          "output_type": "stream",
          "name": "stdout",
          "text": [
            "## Suspected Gas Leak Action Plan\n",
            "\n",
            "**1. Initial Assessment:**\n",
            "\n",
            "* **Signs:**  Smell of rotten eggs (mercaptan, an additive to natural gas), hissing or whistling sounds near gas appliances or pipes, dead houseplants, discolored flames on gas appliances (yellow instead of blue), bubbling water or dirt being blown into the air near a gas line, physical symptoms like nausea, headaches, dizziness, or fatigue.\n",
            "* **Situations:** Recent earthquake or construction work near gas lines, unexplained increase in gas bill, appliance malfunction.\n",
            "\n",
            "\n",
            "**2. Immediate Actions:**\n",
            "\n",
            "* **DO NOT:** Use any electrical devices (including lights, phones, or appliances).  Sparks can ignite gas.\n",
            "* **DO NOT:** Light matches or smoke.\n",
            "* **DO:** Extinguish any open flames.\n",
            "* **DO:** Open windows and doors to ventilate the area.\n",
            "* **DO:** Evacuate the building immediately.\n",
            "* **DO:** Call your gas company's emergency line or 911 from a safe location (neighbor's house or a safe distance away from your property).\n",
            "\n",
            "\n",
            "**3. Verification Steps (API Call Simulation):**\n",
            "\n",
            "While a direct API call for real-time gas leak verification isn't publicly available (for safety reasons, such systems are usually internal to gas companies), we can simulate verification by accessing trusted online resources.  We can check the website of a reputable source like the National Fire Protection Association (NFPA) or your local gas company for safety procedures.  These websites often have detailed instructions for handling gas leaks.\n",
            "\n",
            "* **Example (Conceptual):**\n",
            "    * `API Endpoint (Hypothetical):`  `https://nfpa.org/api/gasleaksafety`\n",
            "    * `Request Parameters:` None\n",
            "    * `Expected Response:` JSON containing confirmed safety measures (e.g., evacuate, don't use electrical devices, call 911/gas company).\n",
            "    * **Real-world alternative:** Access and verify information on `nfpa.org` or your local gas company's website.\n",
            "\n",
            "**4. Long-Term Preventative Measures:**\n",
            "\n",
            "* **Regular Inspections:** Have a qualified technician inspect your gas appliances and lines annually.\n",
            "* **Detector Installation:** Install carbon monoxide and gas detectors. Test them regularly and replace batteries as needed.\n",
            "* **Know Your Shutoff Valves:** Learn the location of the main gas shutoff valve and how to operate it.\n",
            "* **Protect Gas Lines:** Be cautious when digging near gas lines. Call 811 (the \"Call Before You Dig\" number) before any excavation work.\n",
            "* **Appliance Maintenance:** Keep gas appliances clean and well-maintained.  Replace old or faulty appliances.\n",
            "* **Educate Family Members:** Teach everyone in your household about the signs of a gas leak and what to do in an emergency.\n",
            "\n",
            "\n",
            "**5. Action Summary (with Verified Information Reinforcement):**\n",
            "\n",
            "1. **Suspect a leak?**  If you smell rotten eggs, hear hissing, or experience symptoms, assume a leak. (Verified by NFPA/Gas Company resources)\n",
            "2. **No sparks!**  Avoid any electrical devices. (Verified by NFPA/Gas Company resources)\n",
            "3. **Ventilate and Evacuate:** Open windows, leave the building immediately. (Verified by NFPA/Gas Company resources)\n",
            "4. **Call for Help:**  Contact your gas company or 911 from a safe location. (Verified by NFPA/Gas Company resources)\n",
            "5. **Annual Inspections:** Schedule regular checks by a qualified professional. (Recommended by NFPA/Gas Company resources)\n",
            "6. **Install Detectors:** Protect your home with CO and gas detectors. (Recommended by NFPA/Gas Company resources)\n",
            "7. **Know Your Shutoff:**  Learn how to turn off the gas supply. (Recommended by NFPA/Gas Company resources)\n",
            "\n",
            "\n",
            "\n",
            "This plan emphasizes safety as the top priority.  Remember to rely on official sources like your gas company and the NFPA for the most accurate and up-to-date information.\n",
            "\n"
          ]
        }
      ]
    },
    {
      "cell_type": "markdown",
      "source": [
        "The response from Gemini model is very detailed"
      ],
      "metadata": {
        "id": "6fi9h9jRqEZZ"
      }
    },
    {
      "cell_type": "code",
      "source": [
        "# Example usage 2\n",
        "user_input = \"What steps should I take if I think that my fitness level has deteriorated ?\"\n",
        "prompt_with_cot = prompt.format_prompt(user_input=user_input)"
      ],
      "metadata": {
        "id": "2qHqUkISYvMe"
      },
      "execution_count": 114,
      "outputs": []
    },
    {
      "cell_type": "code",
      "source": [
        "# Generate response\n",
        "response = gemini(prompt_with_cot.text)\n",
        "print(response)"
      ],
      "metadata": {
        "colab": {
          "base_uri": "https://localhost:8080/"
        },
        "id": "QZHAS0091O7P",
        "outputId": "debf1b53-e2f5-4c8a-cc7f-7a2db97534a3"
      },
      "execution_count": 115,
      "outputs": [
        {
          "output_type": "stream",
          "name": "stdout",
          "text": [
            "Let's address the situation of perceived fitness deterioration.  Since there's no real-time API for fitness assessment (and creating a hypothetical one wouldn't be practical), we'll focus on using available information and recommending actions you can verify through reputable sources (like medical websites or fitness professionals).\n",
            "\n",
            "**1. Initial Assessment:**\n",
            "\n",
            "* **Signs and Symptoms:**  Increased fatigue during regular activities, shortness of breath with mild exertion, difficulty performing tasks that used to be easy (e.g., climbing stairs, carrying groceries), muscle weakness, increased resting heart rate, decreased flexibility, weight gain or loss (unintentional), difficulty sleeping, decreased motivation to exercise.\n",
            "* **Situations:**  Prolonged period of inactivity (due to illness, injury, or lifestyle changes), increased stress, changes in diet, changes in medication.\n",
            "\n",
            "**2. Immediate Actions:**\n",
            "\n",
            "* **Don't push yourself:**  Avoid strenuous activities that could lead to injury. If you experience pain, stop immediately.\n",
            "* **Consult a doctor:** If you have any concerns about your health, especially if you experience chest pain, dizziness, or severe fatigue, schedule a check-up. This is crucial for ruling out any underlying medical conditions.\n",
            "* **Hydrate:** Ensure you're drinking enough water. Dehydration can mimic symptoms of decreased fitness.\n",
            "* **Start slow:** Begin with light activities like walking or gentle stretching.  Don't try to jump back into your previous fitness routine immediately.\n",
            "\n",
            "**3. Verification Steps (Using Reputable Sources):**\n",
            "\n",
            "* **Verify Doctor Recommendations:** Look up the doctor's credentials and check online reviews. Cross-reference any medical advice with information from trusted medical websites (e.g., Mayo Clinic, NHS).\n",
            "* **Research Safe Exercise Practices:** Consult reputable fitness websites (e.g., ACE, ACSM) or fitness professionals for guidance on proper form, appropriate intensity levels, and safe progression for your current condition.\n",
            "* **Nutritional Guidance:** Verify dietary advice with registered dietitians or credible nutritional resources.\n",
            "\n",
            "**4. Long-Term Preventative Measures:**\n",
            "\n",
            "* **Consistent Exercise:** Create a regular exercise schedule that includes cardiovascular activity, strength training, and flexibility exercises.  Gradually increase the intensity and duration of your workouts.\n",
            "* **Balanced Diet:**  Maintain a healthy diet rich in fruits, vegetables, lean protein, and whole grains. Limit processed foods, sugary drinks, and unhealthy fats.\n",
            "* **Adequate Sleep:** Aim for 7-9 hours of quality sleep per night.  Sleep is essential for muscle recovery and overall health.\n",
            "* **Stress Management:** Practice stress-reducing techniques like meditation, yoga, or deep breathing exercises.\n",
            "* **Regular Check-ups:** Schedule regular check-ups with your doctor to monitor your health and address any potential issues early on.\n",
            "* **Listen to your body:** Pay attention to your body's signals and adjust your activity levels accordingly. Don't push through pain.\n",
            "* **Seek professional guidance:** Consider working with a certified personal trainer or other fitness professional to create a personalized exercise plan and ensure proper form.\n",
            "\n",
            "\n",
            "**5. Action Summary:**\n",
            "\n",
            "1. **Assess:** Recognize signs of decreased fitness (fatigue, shortness of breath, etc.).\n",
            "2. **Consult Doctor:** Seek medical advice, especially if experiencing concerning symptoms. (Verify doctor's credentials and cross-reference advice with reputable sources).\n",
            "3. **Start Slowly:** Begin with light activity and avoid strenuous exercise. (Consult reputable fitness resources for safe exercise practices).\n",
            "4. **Hydrate:** Drink plenty of water.\n",
            "5. **Long-Term Plan:**  Implement a regular exercise routine, balanced diet, adequate sleep, stress management techniques, and regular check-ups. (Verify dietary advice with credible sources and consider professional fitness guidance).\n",
            "\n",
            "By following these steps and verifying information with reliable sources, you can safely address a perceived decline in fitness and work towards regaining and maintaining a healthy lifestyle.  Remember that consistency is key, and gradual progress is more sustainable than attempting to quickly return to previous levels of fitness.\n",
            "\n"
          ]
        }
      ]
    },
    {
      "cell_type": "code",
      "source": [
        "# Example usage 3\n",
        "user_input = \"What steps should i take if i want to invest in crypto industry\"\n",
        "prompt_with_cot = prompt.format_prompt(user_input=user_input)"
      ],
      "metadata": {
        "id": "PT8jWfe11aFM"
      },
      "execution_count": 116,
      "outputs": []
    },
    {
      "cell_type": "code",
      "source": [
        "# Generate response\n",
        "response = gemini(prompt_with_cot.text)\n",
        "print(response)"
      ],
      "metadata": {
        "colab": {
          "base_uri": "https://localhost:8080/"
        },
        "id": "-UN0q9UD3pAh",
        "outputId": "695bb60d-36ea-4294-bfec-43cdc01d36f9"
      },
      "execution_count": 117,
      "outputs": [
        {
          "output_type": "stream",
          "name": "stdout",
          "text": [
            "It seems you're asking for a structured approach to investing in cryptocurrency, not responding to an emergency.  Let's reframe the prompt's structure to fit this goal.\n",
            "\n",
            "**1. Initial Assessment (Understanding Your Goals and Risk Tolerance):**\n",
            "\n",
            "* **Financial Situation:**  Determine how much disposable income you can realistically invest without jeopardizing your financial stability. Cryptocurrency is a high-risk investment.  Only invest what you can afford to lose.\n",
            "* **Risk Tolerance:**  Assess your comfort level with potential losses.  Are you a risk-averse, moderate, or aggressive investor? This will influence your investment strategy.\n",
            "* **Investment Goals:** Define your objectives. Are you looking for short-term gains, long-term growth, or passive income?\n",
            "* **Time Commitment:**  Researching and managing crypto investments takes time.  Evaluate how much time you can dedicate.\n",
            "\n",
            "**2. Immediate Actions (Getting Started):**\n",
            "\n",
            "* **Education:** Begin learning about blockchain technology, different cryptocurrencies, and investment strategies. Reputable resources include CoinDesk, Investopedia, and books on cryptocurrency investing.\n",
            "* **Choose a reputable exchange:** Research and select a secure and regulated cryptocurrency exchange (e.g., Coinbase, Binance, Kraken).  Consider factors like fees, security measures, available cryptocurrencies, and user interface.\n",
            "* **Create an account:**  Complete the KYC (Know Your Customer) verification process on your chosen exchange.\n",
            "* **Secure your account:** Enable two-factor authentication (2FA) and use a strong, unique password.\n",
            "\n",
            "**3. Verification Steps (Due Diligence and Ongoing Monitoring):**\n",
            "\n",
            "* **API Integration (Optional, Advanced):**  If you're technically inclined, you can use exchange APIs to track real-time price data, manage your portfolio, and automate trading strategies.  This step is not essential for beginners.\n",
            "* **Price Tracking:** Use reputable websites and apps (e.g., CoinMarketCap, CoinGecko) to monitor cryptocurrency prices and market trends.\n",
            "* **News and Analysis:** Stay informed about industry news, regulatory developments, and project updates that could impact your investments.\n",
            "\n",
            "**4. Long-Term Preventative Measures (Risk Management):**\n",
            "\n",
            "* **Diversification:**  Don't put all your eggs in one basket. Invest in a diversified portfolio of cryptocurrencies to spread risk.\n",
            "* **Dollar-Cost Averaging (DCA):** Invest a fixed amount of money at regular intervals (e.g., weekly or monthly) regardless of price fluctuations.  This helps mitigate the impact of market volatility.\n",
            "* **Secure Storage:** Consider using a hardware wallet (e.g., Ledger, Trezor) to store your private keys offline for enhanced security against hacking and theft.\n",
            "* **Continuous Learning:** The crypto landscape is constantly evolving.  Stay updated on new technologies, projects, and regulations.\n",
            "* **Tax Planning:**  Consult with a tax professional to understand the tax implications of cryptocurrency investments in your jurisdiction.\n",
            "\n",
            "**5. Action Summary:**\n",
            "\n",
            "1. **Assess:** Define your financial situation, risk tolerance, and investment goals.\n",
            "2. **Educate:** Learn about blockchain, cryptocurrencies, and investment strategies.\n",
            "3. **Choose an Exchange:** Select a reputable and secure platform.\n",
            "4. **Secure Your Account:** Enable 2FA and use a strong password.\n",
            "5. **Diversify:** Invest in a portfolio of cryptocurrencies.\n",
            "6. **DCA:** Invest regularly regardless of price fluctuations.\n",
            "7. **Secure Storage:** Consider a hardware wallet.\n",
            "8. **Continuous Learning:** Stay updated on industry developments.\n",
            "9. **Tax Planning:** Consult with a tax professional.\n",
            "\n",
            "\n",
            "While API calls can be helpful for advanced users, the focus for beginners should be on education, risk management, and security best practices. Remember, cryptocurrency investments are inherently risky, and there's no guarantee of profit.  Always do your own research and invest responsibly.\n",
            "\n"
          ]
        }
      ]
    },
    {
      "cell_type": "code",
      "source": [],
      "metadata": {
        "id": "wCp6o5gH3uR4"
      },
      "execution_count": null,
      "outputs": []
    }
  ]
}